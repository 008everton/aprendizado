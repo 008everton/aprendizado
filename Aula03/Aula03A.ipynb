{
 "cells": [
  {
   "cell_type": "markdown",
   "metadata": {},
   "source": [
    "# Computação Aplicada A Ciência e Engenharia\n",
    "\n",
    "## Introdução à Linguagem Python (Aula 03-A)\n",
    "\n",
    "## Conteúdo\n",
    "1. Operadores lógicos\n",
    "2. Expressões lógicas\n",
    "3. Estruturas condicionais"
   ]
  },
  {
   "cell_type": "markdown",
   "metadata": {},
   "source": [
    "## 1. Tipo Bool e Variáveis Lógicas\n",
    "\n",
    "Um dos tipos de dados mais importantes de qualquer linguagem de programação são os denominados booleanos ou lógicos. Estes dados podem assumir apenas dois valores possíveis `True` (verdade) ou  `False`(falso). As variáveis que contêm dados deste tipo são geralmente chamadas de variáveis lógicas. Veja nas linhas abaixo o processo de inicialização de uma variável deste tipo. "
   ]
  },
  {
   "cell_type": "code",
   "execution_count": 1,
   "metadata": {},
   "outputs": [
    {
     "name": "stdout",
     "output_type": "stream",
     "text": [
      "True False\n"
     ]
    }
   ],
   "source": [
    "val_bool_1 = True #Inicializa uma variável lógica com uma declaração verdadeira. \n",
    "val_bool_2 = False #Inicializa uma variável lógica com uma declaração falsa. \n",
    "print(val_bool_1, val_bool_2)"
   ]
  },
  {
   "cell_type": "markdown",
   "metadata": {},
   "source": [
    "### 1.1 Operadores Relacionais"
   ]
  },
  {
   "cell_type": "markdown",
   "metadata": {},
   "source": [
    "Os operadores relacionais fazem verificações que testam condições verdadeiras ou falsas. \n",
    "\n",
    "Os operadores disponíveis na linguagem Python 3, são os seguintes:\n",
    "\n",
    "1. Operador Igual (`A == B`): Verifica se o operando A é igual ao operando B, retornando `True` se for igual e `False` se for diferente.\n",
    "2. Operador Diferente (`A != B`): Verifica se o operando A é diferente do operando B, retornando `True` se forem diferentes ou `False` se forem iguais.\n",
    "3. Operador Maior que (`A > B`): Verifica se o operando A é maior que operando B, retornando `True` se for maior ou `False` se não for.\n",
    "4. Operador Menor Que (`A < B`): Verifica se o operando A é menor que operando B, retornando `True` se for menor ou `False` se não for.\n",
    "5. Operador Maior que (`A >= B`): Verifica se o operando A é maior ou igual ao operando B, retornando `True` se for maior ou igual ou `False` se não for.\n",
    "6. Operador Menor Que (`A <= B`): Verifica se o operando A é menor igual ao operando B, retornando `True` se for menor ou igual ou `False` se não for.\n",
    "\n",
    "Com os operadores relacionais é possível a composição das chamadas expressões relacionais. Estas expressões verificam, com os operadores, as relações lógicas entre os operandos. \n",
    "\n",
    "Na linha abaixo, as expressões relacionais verificam qual a relação de semelhança entre duas variáveis fornecidas pelo usuário. "
   ]
  },
  {
   "cell_type": "code",
   "execution_count": 10,
   "metadata": {},
   "outputs": [
    {
     "name": "stdin",
     "output_type": "stream",
     "text": [
      "Informe um número inteiro entre 1 e 6:  5\n",
      "Informe dois número inteiro entre 1 e 6:  6\n"
     ]
    },
    {
     "name": "stdout",
     "output_type": "stream",
     "text": [
      "O número 5 é menor que o número 6.\n"
     ]
    }
   ],
   "source": [
    "val1 = int(input(\"Informe um número inteiro:\"))\n",
    "val2 = int(input(\"Informe outro número inteiro:\"))\n",
    "print(val1 > val2):\n",
    "print(val1 < val2):\n",
    "print(va1 == val2)"
   ]
  },
  {
   "cell_type": "markdown",
   "metadata": {},
   "source": [
    "### 1.3 Operadoles Lógicos\n",
    "\n",
    "Enquanto os operadores relacionais retornam valores booleanos por meio da comparação de dados de qualquer tipo, os operadores lógicos verificam as relações exclusivamente sobre dados booleanos. Assim é possível fazer testes lógicos sobre dados lógicos. \n",
    "\n",
    "Esta funcionalidade é especialmente útil para se verificar múltiplas condições para um determinado valor. \n",
    "\n",
    "São três os operadores lógicos mais usuáis:\n",
    "\n",
    "1. Operador binário `A or B`: Verifica se pelo menos um dos operandos A ou B é verdadeiro, se for retorna `True`, se não, retorna `False`.\n",
    "2. Operador binário `A and B`: Verifica se ambos os operandos A ou B são verdadeiros, se forem retorna `True`, se não, retorna `False`.\n",
    "3. Operador unário `not C`: Nega o booleano `C`, se `C = True`, `not C = False`, se `C = False`, `not C = True`.\n",
    "\n",
    "Note que os dois primeiros operadores lógicos listados são binários, ou seja, atuam sobre dois operandos, ao passo que o terceiro atua sobre apenas um. \n",
    "\n",
    "Veja sua utilização nas linhas abaixo."
   ]
  },
  {
   "cell_type": "code",
   "execution_count": 12,
   "metadata": {},
   "outputs": [
    {
     "name": "stdout",
     "output_type": "stream",
     "text": [
      "True\n",
      "False\n",
      "True\n",
      "True\n",
      "False\n",
      "False\n",
      "False\n",
      "True\n",
      "True\n"
     ]
    }
   ],
   "source": [
    "A = True\n",
    "B = False\n",
    "C = False\n",
    "\n",
    "print(A or B)\n",
    "print(A and B)\n",
    "print(A or A)\n",
    "print(A and A)\n",
    "print(B or B)\n",
    "print(B and B)\n",
    "\n",
    "print(not A)\n",
    "print(not B)\n",
    "print(not C)"
   ]
  },
  {
   "cell_type": "markdown",
   "metadata": {},
   "source": [
    "### Exemplo 1\n",
    "Construa uma expressão condicional que verifica que um determinado valor é par e menor que 20."
   ]
  },
  {
   "cell_type": "code",
   "execution_count": 20,
   "metadata": {},
   "outputs": [
    {
     "name": "stdout",
     "output_type": "stream",
     "text": [
      "False\n"
     ]
    }
   ],
   "source": [
    "val = 22\n",
    "\n",
    "print((val%2==0) and (val<20))"
   ]
  },
  {
   "cell_type": "markdown",
   "metadata": {},
   "source": [
    "### Exercício 1\n",
    "Modifique a expressão lógica para que ela verifique se um número é impar, maior que zero e menor que cinquenta. "
   ]
  },
  {
   "cell_type": "markdown",
   "metadata": {},
   "source": [
    "## 2. Estruturas Condicionais\n",
    "\n",
    "Chama-se estrutura condicional um bloco de código que será executado apenas após a verificação da validade de uma condição lógica, sendo esta condição satisfeita, o bloco executa, do contrário transfere o controle do programa para a próxima instrução. \n",
    "\n",
    "Estruturas desta natureza, são utilizadas para o controle do fluxo de execução do código. Diz-se que a execução pode ser direcionada segundo o interesse do programador. \n",
    "\n",
    "A linguagem Python 3 possui três blocos lógicos básicos. O bloco `if`, o bloco `else` e o bloco `elif`. \n",
    "\n",
    "O primeiro deles deve ser seguido de uma operação relacional ou expressão lógica cuja a saída seja inequívoca, o bloco será executado apenas se o condição for resolvida como verdadeira. \n",
    "\n",
    "Nas linhas abaixo se vê a declaração de um bloco lógico que será executado apenas se a expressão lógica do exemplo 1 for resolvida como verdadeira."
   ]
  },
  {
   "cell_type": "code",
   "execution_count": 1,
   "metadata": {},
   "outputs": [
    {
     "name": "stdout",
     "output_type": "stream",
     "text": [
      "O número 18 é par e menor que 20.\n"
     ]
    }
   ],
   "source": [
    "val = 18\n",
    "if (val%2==0) and (val<20): #cabeçalho do bloco\n",
    "    print(f\"O número {val} é par e menor que 20.\")"
   ]
  },
  {
   "cell_type": "markdown",
   "metadata": {},
   "source": [
    "Se a variável for incializada com um valor que não satisfaça a condição, nada será exibido. "
   ]
  },
  {
   "cell_type": "code",
   "execution_count": 2,
   "metadata": {},
   "outputs": [],
   "source": [
    "val = 17\n",
    "if (val%2==0) and (val<20): #cabeçalho do bloco\n",
    "    print(f\"O número {val} é par e menor que 20.\")"
   ]
  },
  {
   "cell_type": "markdown",
   "metadata": {},
   "source": [
    "O bloco condicional `else`, por sua vez, é utilizado quando se quer determinar um bloco de código para ser executado quando a condição declarado no `if` for retornada como `False`, ou seja, o bloco `else` será executado, apenas se o bloco `if` não for executado. "
   ]
  },
  {
   "cell_type": "code",
   "execution_count": 3,
   "metadata": {},
   "outputs": [
    {
     "name": "stdout",
     "output_type": "stream",
     "text": [
      "O número 17 não atende a condição especificada.\n"
     ]
    }
   ],
   "source": [
    "val = 17\n",
    "if (val%2==0) and (val<20): #cabeçalho do bloco\n",
    "    print(f\"O número {val} é par e menor que 20.\")\n",
    "else:\n",
    "    print(f\"O número {val} não atende a condição especificada.\")"
   ]
  },
  {
   "cell_type": "markdown",
   "metadata": {},
   "source": [
    "Opcionalmente `elif` pode ser usado para verificar condições adicionais à condição declarada no `if`, veja o caso em que um teste mais detalhado é implementado."
   ]
  },
  {
   "cell_type": "code",
   "execution_count": 4,
   "metadata": {},
   "outputs": [
    {
     "name": "stdout",
     "output_type": "stream",
     "text": [
      "O número 17 é menor que 20, mas não é par.\n"
     ]
    }
   ],
   "source": [
    "val = 17\n",
    "if (val%2==0) and (val<20): #cabeçalho do bloco\n",
    "    print(f\"O número {val} é par e menor que 20.\")\n",
    "elif (val%2==0):\n",
    "    print(f\"O número {val} é par mas não é menor que 20.\")\n",
    "elif (val<20):\n",
    "    print(f\"O número {val} é menor que 20, mas não é par.\")\n",
    "else:\n",
    "    print(f\"O número {val} não atende a condição especificada.\")"
   ]
  },
  {
   "cell_type": "markdown",
   "metadata": {},
   "source": [
    "Em muitas situações pode ser necessário que os blocos lógicos sejam declarados dentro de outros blocos lógicos, a o que é dado o nome de aninhamento. O Exemplo 2 ilustra essa utilização.\n",
    "\n",
    "### Exemplo 2\n",
    "Escreva um programa que inicialize dois números e verifique qual o maior número ou se são iguais. "
   ]
  },
  {
   "cell_type": "code",
   "execution_count": 5,
   "metadata": {},
   "outputs": [
    {
     "name": "stdout",
     "output_type": "stream",
     "text": [
      "x e y podem ser iguais.\n"
     ]
    }
   ],
   "source": [
    "x = 10\n",
    "y = 10\n",
    "if x < y:\n",
    "    print(\"x é menor que y.\")\n",
    "else:\n",
    "    if x > y: #if aninhado\n",
    "        print(\"x é maior do que y.\")\n",
    "    else: #else aninhado\n",
    "        print(\"x e y podem ser iguais.\")"
   ]
  }
 ],
 "metadata": {
  "kernelspec": {
   "display_name": "Python 3",
   "language": "python",
   "name": "python3"
  },
  "language_info": {
   "codemirror_mode": {
    "name": "ipython",
    "version": 3
   },
   "file_extension": ".py",
   "mimetype": "text/x-python",
   "name": "python",
   "nbconvert_exporter": "python",
   "pygments_lexer": "ipython3",
<<<<<<< HEAD
   "version": "3.9.5"
=======
   "version": "3.8.5"
>>>>>>> 50cbe950e6a79d076eebf2f06bfbe755bfac73eb
  }
 },
 "nbformat": 4,
 "nbformat_minor": 4
}
