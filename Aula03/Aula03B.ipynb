{
 "cells": [
  {
   "cell_type": "markdown",
   "metadata": {},
   "source": [
    "# Computação Aplicada A Ciência e Engenharia\n",
    "\n",
    "## Introdução à Linguagem Python (Aula 03-B)\n",
    "\n",
    "## Conteúdo\n",
    "1. Estruturas de Laços"
   ]
  },
  {
   "cell_type": "markdown",
   "metadata": {},
   "source": [
    "## 1. Estruturas de Laços\n",
    "\n",
    "Um laço, ou *loop*, nãda mais é que um bloco de código que é executado **n** vezes durante a execução do programa. \n",
    "\n",
    "Os laços pode ser utilizados para vários propósitos mas na grande maioria dos casos, eles são utilizados para a interação com conjuntos de valores, quando se deseja repetir sequencialmente uma determinada operação, ou para a construção de operações matemáticas sequenciais, tais como somatórios e produtórios. \n",
    "\n",
    "Estes blocos são implementados no Python 3 de duas formas distintas, pelo bloco `for`, quando o número de iterações necessário é conhecido, ou pelo laço `while` quando a execução do laço é condicional, ou seja, quando o bloco deve ser repetido até que uma determinada condição deixe de ser verdadeira.\n",
    "\n",
    "### 1.1 Laço `for` \n",
    "\n",
    "Este bloco é incializado com pelo menos uma variável local - variável que só terá siguinificado no iterior do bloco - e um iterável.\n",
    "\n",
    "Em Python 3, iteráveis são sequências de dados indexadas que podem ser percorridas pelo laço durante sua execução. Todos os *containers* estudados são interáveis. \n",
    "\n",
    "Veja o caso da iteração ao longo de uma lista numérica de 10 elementos. "
   ]
  },
  {
   "cell_type": "code",
   "execution_count": 6,
   "metadata": {},
   "outputs": [
    {
     "name": "stdout",
     "output_type": "stream",
     "text": [
      "1\n",
      "2\n",
      "3\n",
      "4\n",
      "5\n",
      "6\n",
      "7\n",
      "8\n",
      "9\n",
      "10\n"
     ]
    }
   ],
   "source": [
    "lista = [1, 2, 3, 4, 5, 6, 7, 8, 9, 10] #Declaração do iterável\n",
    "for i in lista: #i é a variável local\n",
    "    print(i)"
   ]
  },
  {
   "cell_type": "markdown",
   "metadata": {},
   "source": [
    "Quando o bloco foi executado, variável `i` assumiu cada um dos valores do iterador em cada uma das execuções do bloco. Na primeira execução `i=1`, na segunda `i=2`, na terceira `i=3` e assim por diante. "
   ]
  },
  {
   "cell_type": "markdown",
   "metadata": {},
   "source": [
    "### Exemplo 1\n",
    "Utilizando o laço for, calcule o somatório das raízes cúbicas de cada um dos valores inteiros entre 0 e 11."
   ]
  },
  {
   "cell_type": "code",
   "execution_count": 1,
   "metadata": {},
   "outputs": [
    {
     "name": "stdout",
     "output_type": "stream",
     "text": [
      "16.964117907535496\n"
     ]
    }
   ],
   "source": [
    "lista = [1, 2, 3, 4, 5, 6, 7, 8, 9, 10] #Inteiros entre 0 e 11\n",
    "somatorio = 0 #Inicialização do somatório com o elemento neutro da soma\n",
    "for i in lista:\n",
    "    somatorio+=(i)**(1/3)\n",
    "print(somatorio)"
   ]
  },
  {
   "cell_type": "markdown",
   "metadata": {},
   "source": [
    "Casos em que o laço precise ser executado um número finito de vezes, podem ser implementados utilizando a função `range(ini,fim)`. Esta função cria iteradores rápidos que inicializam em seu primeiro argumento (`ini`) e terminam em `fim-1`. \n",
    "\n",
    "Na chamada a esta função o parâmetro `ini` é opcional, quando for omitido, por padrão `ini` é assumido como zero.\n",
    "\n",
    "Veja nas linhas abaixo como o Exemplo 3 poderia ser resolvido sem a utilização da `lista`."
   ]
  },
  {
   "cell_type": "code",
   "execution_count": 9,
   "metadata": {},
   "outputs": [
    {
     "name": "stdout",
     "output_type": "stream",
     "text": [
      "16.964117907535496\n"
     ]
    }
   ],
   "source": [
    "somatorio = 0 #Inicialização do somatório com o elemento neutro da soma\n",
    "for i in range(1,11):\n",
    "    somatorio+=(i)**(1/3)\n",
    "print(somatorio)"
   ]
  },
  {
   "cell_type": "markdown",
   "metadata": {},
   "source": [
    "### Exercício 1\n",
    "Se m=3.5, determine o somatório dos primeiro mil elementos da série `m**i` iniciada em i=1 e incrementada unitariamente."
   ]
  },
  {
   "cell_type": "markdown",
   "metadata": {},
   "source": [
    "### 1.2 Laço `while`\n",
    "\n",
    "Este tipo de laço executa repetidamente até que uma determinada condição declarada em seu cabeçalho torne-se falsa, e então para. Sua utilização é fundamental para o caso em que se deseja implementar um laço para o qual não se conhece o número de iterações que devem acontecer.\n",
    "\n",
    "Veja no código abaixo como o Exemplo 3 poderia ser implementado pela utilização do `while` no lugar do `for`."
   ]
  },
  {
   "cell_type": "code",
   "execution_count": 15,
   "metadata": {},
   "outputs": [
    {
     "name": "stdout",
     "output_type": "stream",
     "text": [
      "16.964117907535496\n"
     ]
    }
   ],
   "source": [
    "somatorio = 0 \n",
    "cont = 1 #contador de iterações\n",
    "while cont <= 10:\n",
    "    somatorio+=(cont)**(1/3)\n",
    "    cont+=1\n",
    "print(somatorio)"
   ]
  },
  {
   "cell_type": "markdown",
   "metadata": {},
   "source": [
    "Este tipo de laço também pode ser interrompido por meio de *flags*. Uma *flag* é um status assumido por uma variável que termina a condição de parada. \n",
    "\n",
    "Suponha que um usuário deseje fazer a soma de `n` números digitados pelo usuário, e que a digitação seja interrompida apenas quando o caractere `x` seja informado. \n",
    "\n",
    "Veja a solução deste caso."
   ]
  },
  {
   "cell_type": "code",
   "execution_count": null,
   "metadata": {},
   "outputs": [],
   "source": [
    "soma = []\n",
    "val = ''\n",
    "while val.lower() != 'x':\n",
    "    val = input(\"Digite um número para ser somado: \")\n",
    "    soma.append(val)\n",
    "else:\n",
    "    for i in range(len(soma)-1):\n",
    "        soma[i] = float(soma[i])\n",
    "    print(f\"A soma foi de {sum(soma[:-1])}\")"
   ]
  },
  {
   "cell_type": "markdown",
   "metadata": {},
   "source": [
    "No código acima foram utilizadas duas novas funções, a função `len()` que retorna o comprimento de um iterável, e a função `sum()` que retorna a soma algébrica dos elementos de um interável quando estes são somáveis algebricamente, do contrário retornará um erro.\n",
    "\n",
    "Este código pode ser simplificado pela manipulação de erros e excessões, no entanto, como este recurso ainda não foi visto, o código foi criado desta forma desta forma.\n",
    "\n",
    "Neste caso, a variável `val` além de armazenar os valores a serem somados, também é uma *flag* de interrupção, que interromperá o `while` quando assumir o valor `x`. \n",
    "\n",
    "Opcionalmente outra solução poderia ser preferida, nesta foi criado um laço infinito."
   ]
  },
  {
   "cell_type": "code",
   "execution_count": 1,
   "metadata": {},
   "outputs": [
    {
     "name": "stdout",
     "output_type": "stream",
     "text": [
      "Informe o número a ser somado ou digite q para sair: \n",
      "2\n",
      "3\n",
      "3\n",
      "q\n",
      "O somatório dos valores digitados foi de: 8.0\n"
     ]
    }
   ],
   "source": [
    "entrada = float(input('Informe o número a ser somado ou digite q para sair: \\n'))\n",
    "somatorio = entrada\n",
    "while True:\n",
    "    entrada = input()\n",
    "    if entrada != 'q':\n",
    "        entrada = float(entrada)\n",
    "        somatorio+=entrada\n",
    "    else:\n",
    "        break\n",
    "\n",
    "print('O somatório dos valores digitados foi de: {}'.format(somatorio))\n",
    "#Atenção ao método .format() de uma string, ele pode ser utilizado para inserior variáveis de quaisques\n",
    "#tipos no interior de uma string. "
   ]
  }
 ],
 "metadata": {
  "kernelspec": {
   "display_name": "Python 3",
   "language": "python",
   "name": "python3"
  },
  "language_info": {
   "codemirror_mode": {
    "name": "ipython",
    "version": 3
   },
   "file_extension": ".py",
   "mimetype": "text/x-python",
   "name": "python",
   "nbconvert_exporter": "python",
   "pygments_lexer": "ipython3",
   "version": "3.9.5"
  }
 },
 "nbformat": 4,
 "nbformat_minor": 4
}
