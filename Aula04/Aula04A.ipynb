{
 "cells": [
  {
   "cell_type": "markdown",
   "id": "tired-lotus",
   "metadata": {},
   "source": [
    "# Computação Aplicada A Ciência e Engenharia\n",
    "\n",
    "## Introdução à Linguagem Python (Aula 04-B)\n",
    "\n",
    "## Conteúdo\n",
    "1. Arranjos e Vetores\n",
    "2. Criando Vetores e Arrays com Numpy\n",
    "3. Operações Algébricas Básicas com Vetores e Arrays."
   ]
  },
  {
   "cell_type": "markdown",
   "id": "sustainable-wednesday",
   "metadata": {},
   "source": [
    "## 1. Arranjos e Vetores\n",
    "\n",
    "Anté aqui os vetores numéricos foram implementados pela utilização de listas nativas do Python, no entanto, estas estruturas não foram concebidas originalmente para a utilização como vetores ou matrizes para a Álgebra ou para métodos numéricos. \n",
    "\n",
    "A forma atual mais eficaz de trabalhar com estas estruturas é por meio da utilização das chamadas *NumPy* *Arrays*. NumPy é a biblioteca numérica mais utilizada em aplicações matemáticas na linguagem Python, e é extremamente otimizada para esta utilização, já que as classes nela disponíveis disponibilizam diversos métodos algébricos e numéricos para a manipulação das estruturas de dados. Além disso, é internamente implementada em linguagem C/C++ o que lhe confere desempenho computacional superior a Python puro.\n",
    "\n",
    "Por definição, um vetor numérico, é uma coleção de dados do tipo `int`, `float` ou `complex`, armazenados sequencialmente em uma única dimensão. \n",
    "\n",
    "Exemplo de vetor com comprimento igual a 6: \n",
    "\n",
    "`[1.0, 2.0, 3.0, 4.0, 5.0, 6.0]`\n",
    "\n",
    "`  0    1    2    3    4    5  ` indices\n",
    "\n",
    "\n",
    "Arranjos, por outro lado, são estruturas multidimensionais, que podem ser entendidas como conjuntos de vetores dispostos ao longo de dois ou mais eixos, ou dimensões:\n",
    "\n",
    "```\n",
    "# Exemplo de arranjo bidimensional\n",
    "[[ 0.1,   0.2,  0.3, 0.4, 0.5],\n",
    "[0.6, 0.7, 0.8, 0.9, 1.0]]\n",
    "```\n",
    "\n"
   ]
  },
  {
   "cell_type": "markdown",
   "id": "agreed-expert",
   "metadata": {},
   "source": [
    "## 2. Criando Vetores e Arrays com Numpy\n",
    "\n",
    "Em NumPy, os arranjos e vetores são estruturas da classe `ndarray`, que podem ser inicializados declarativamente ou automaticamente.\n",
    "\n",
    "### 2.1 Inicialização Declarativa\n",
    "\n",
    "A inicialização declarativa se dá quando os elementos componentes do vetor ou arranjo, são explicitamente declarados pelo \n",
    "programador. O exemplo anterior, pode ser utilizado para a inicialização declarativa de um vetor e array do NumPy.\n",
    "\n"
   ]
  },
  {
   "cell_type": "code",
   "execution_count": 1,
   "id": "united-clinton",
   "metadata": {},
   "outputs": [
    {
     "name": "stdout",
     "output_type": "stream",
     "text": [
      "<class 'list'>\n",
      "<class 'numpy.ndarray'>\n"
     ]
    }
   ],
   "source": [
    "import numpy as np\n",
    "\n",
    "lista = [[ 0.1,   0.2,  0.3, 0.4, 0.5], [0.6, 0.7, 0.8, 0.9, 1.0]]\n",
    "\n",
    "# Inicialização de vetores\n",
    "vetor1 = np.array([ 0.1,   0.2,  0.3, 0.4, 0.5])\n",
    "vetor2 = np.array([0.6, 0.7, 0.8, 0.9, 1.0])\n",
    "\n",
    "#Inicialização de um array\n",
    "np_arranjo = np.array([[ 0.1,   0.2,  0.3, 0.4, 0.5], [0.6, 0.7, 0.8, 0.9, 1.0]])\n",
    "\n",
    "print(type(lista))\n",
    "print(type(np_arranjo))"
   ]
  },
  {
   "cell_type": "markdown",
   "id": "1487a406-008a-425c-9b29-b324b955b27a",
   "metadata": {},
   "source": [
    "O mesmo resultado poderia ser obtido fazendo-se apenas:"
   ]
  },
  {
   "cell_type": "code",
   "execution_count": 2,
   "id": "79236816-b20a-41ef-8dc7-69b82a830f63",
   "metadata": {},
   "outputs": [
    {
     "name": "stdout",
     "output_type": "stream",
     "text": [
      "Vetor 1:\n",
      " [0.1 0.2 0.3 0.4 0.5]\n",
      "Vetor 2:\n",
      " [0.6 0.7 0.8 0.9 1. ]\n",
      "Array:\n",
      " [[0.1 0.2 0.3 0.4 0.5]\n",
      " [0.6 0.7 0.8 0.9 1. ]]\n"
     ]
    }
   ],
   "source": [
    "# Inicialização de vetores\n",
    "vetor1 = np.array(lista[0])\n",
    "vetor2 = np.array(lista[1])\n",
    "\n",
    "#Inicialização de um array\n",
    "np_arranjo = np.array(lista)\n",
    "\n",
    "print(\"Vetor 1:\\n\", vetor1)\n",
    "print(\"Vetor 2:\\n\", vetor2)\n",
    "print(\"Array:\\n\", np_arranjo)"
   ]
  },
  {
   "cell_type": "markdown",
   "id": "9640e413-5dd8-4126-a8e7-15e0dc9f7c04",
   "metadata": {},
   "source": [
    "Algumas características do arranjo podem ser acessadas por meio de suas propriedades `size`, `ndim` e `shape`.\n",
    "`size` obtem o número de elementos do array ou vetor, `ndim` o número de dimensões e `shape` a forma."
   ]
  },
  {
   "cell_type": "code",
   "execution_count": 3,
   "id": "a5d735d0-d3b2-4944-8d16-9c9df447a7c7",
   "metadata": {},
   "outputs": [
    {
     "name": "stdout",
     "output_type": "stream",
     "text": [
      "10\n",
      "2\n",
      "(2, 5)\n"
     ]
    }
   ],
   "source": [
    "print(np_arranjo.size)  # Número de elementos em todo o array\n",
    "print(np_arranjo.ndim)  # Número de dimensões do array\n",
    "print(np_arranjo.shape) # Forma do array"
   ]
  },
  {
   "cell_type": "markdown",
   "id": "e5bf451f-1981-4cd8-a360-d9e59dcd393f",
   "metadata": {},
   "source": [
    "O `shape` de um array ou vetor é uma descrição do número de elementos em cada uma das suas dimensões componentes. No caso anterior, `(2,5)` significa que a primeira dimensão possui dois elementos unidimensionais, com cinco elementos cada. \n",
    "\n",
    "Cada uma dos elementos da primeira dimensão do `array` pode ser acessado por seu respectivo índice `0` para o primeiro\n",
    "elementp, `1` para a segundo, `2` para a terceiro, e assim sucessivamente, enquanto hover."
   ]
  },
  {
   "cell_type": "code",
   "execution_count": 4,
   "id": "65c803aa-03b7-463b-8ab3-958a7d1b5a10",
   "metadata": {},
   "outputs": [
    {
     "name": "stdout",
     "output_type": "stream",
     "text": [
      "[0.1 0.2 0.3 0.4 0.5]\n",
      "[0.6 0.7 0.8 0.9 1. ]\n"
     ]
    }
   ],
   "source": [
    "print(np_arranjo[0]) # Primeiro elemento unidimensional\n",
    "print(np_arranjo[1]) # Segundo elemento unidimensional"
   ]
  },
  {
   "cell_type": "markdown",
   "id": "6ddd1f95-d188-4650-861b-06dce219945b",
   "metadata": {},
   "source": [
    "Cada uma das dimensões desse array, por ser unidimensional, é um vetor."
   ]
  },
  {
   "cell_type": "code",
   "execution_count": 5,
   "id": "91400043-5ba2-4eba-978e-e1d18671ca0e",
   "metadata": {},
   "outputs": [
    {
     "name": "stdout",
     "output_type": "stream",
     "text": [
      "1\n"
     ]
    }
   ],
   "source": [
    "print(np_arranjo[0].ndim)"
   ]
  },
  {
   "cell_type": "markdown",
   "id": "970a16b8-66f5-493e-ae9a-13e6cfa0c9c5",
   "metadata": {},
   "source": [
    "Já os elementos dos vetores são acessados, passando-se dois índices, o primeiro para acessar o elemento da dimensão mais superior e o segundo um elemento naquela dimensão.\n",
    "\n",
    "No exemplos abaixo, o primeiro e último elemento de cada vetor do array bidimensional são acessados."
   ]
  },
  {
   "cell_type": "code",
   "execution_count": 6,
   "id": "bcd2c125-d438-49ac-912a-aadbd60ca435",
   "metadata": {},
   "outputs": [
    {
     "name": "stdout",
     "output_type": "stream",
     "text": [
      "0.1\n",
      "0.5\n",
      "0.6\n",
      "1.0\n"
     ]
    }
   ],
   "source": [
    "print(np_arranjo[0][0])\n",
    "print(np_arranjo[0][-1])\n",
    "print(np_arranjo[1][0])\n",
    "print(np_arranjo[1][-1])"
   ]
  },
  {
   "cell_type": "markdown",
   "id": "e296d837-9b7d-43f2-ba66-8a6f71e74476",
   "metadata": {},
   "source": [
    "Um array de três dimensões poderia ser iniciado declarativamente da seguinte maneira:"
   ]
  },
  {
   "cell_type": "code",
   "execution_count": 7,
   "id": "5a004703-5808-4769-b56e-061596e0dcb4",
   "metadata": {},
   "outputs": [],
   "source": [
    "np_arranjo3d = np.array([[[1, 2], [3, 4]], [[5, 6],[7, 8]]])"
   ]
  },
  {
   "cell_type": "markdown",
   "id": "9e1ba321-2d58-4ece-8aae-f1006f2c8854",
   "metadata": {},
   "source": [
    "```\n",
    "np.array(\n",
    "    #  Elemento 3 D\n",
    "    [ # Elentos 2 D\n",
    "        [  # Elementos 1 D ou vetores\n",
    "            [\n",
    "                1, 2\n",
    "            ], \n",
    "            [\n",
    "                3, 4\n",
    "            ]\n",
    "        ],\n",
    "        [  # Elementos 1 D ou vetores\n",
    "            [ \n",
    "                5, 6\n",
    "            ], \n",
    "            [ \n",
    "                7, 8\n",
    "            ]\n",
    "        ]\n",
    "    ]\n",
    ")\n",
    "```"
   ]
  },
  {
   "cell_type": "markdown",
   "id": "5d0a7a40-7925-46a1-9c6d-97bff5fa0fc1",
   "metadata": {},
   "source": [
    "A propriedade `ndim` pode ser usada para obter o número de dimensões de todos os níveis do array."
   ]
  },
  {
   "cell_type": "code",
   "execution_count": 8,
   "id": "e1103aa1-7b1c-45d1-963b-29dad21583e7",
   "metadata": {},
   "outputs": [
    {
     "name": "stdout",
     "output_type": "stream",
     "text": [
      "<<Elemento tridimensional, o array.>>\n",
      "Numero de dimensões:  3 \n",
      " Elemento: \n",
      " [[[1 2]\n",
      "  [3 4]]\n",
      "\n",
      " [[5 6]\n",
      "  [7 8]]] \n",
      "\n",
      "<<Primeiro elemento bidimensional do array.>>\n",
      "Numero de dimensões:  2 \n",
      " Elemento: \n",
      " [[1 2]\n",
      " [3 4]] \n",
      "\n",
      "<<Primeiro elemento unidimensional (vetor) do primeiro elemento bidimensional do array.>>\n",
      "Numero de dimensões:  1 \n",
      " Elemento: \n",
      " [1 2] \n",
      "\n",
      "<<Segundo elemento unidimensional (vetor), do primeiro elemento bidimensional do array.>>\n",
      "Numero de dimensões:  1 \n",
      " Elemento: \n",
      " [3 4] \n",
      "\n",
      "<<Segundo elemento bidimensional do array.>>\n",
      "Numero de dimensões:  2 \n",
      " Elemento: \n",
      " [[5 6]\n",
      " [7 8]] \n",
      "\n",
      "<<Primeiro elemento unidimensional (vetor) do segundo elemento bidimensional do array.>>\n",
      "Numero de dimensões:  1 \n",
      " Elemento: \n",
      " [5 6] \n",
      "\n",
      "<<Segundo elemento unidimensional (vetor), do segundo elemento bidimensional do array.>>\n",
      "Numero de dimensões:  1 \n",
      " Elemento: \n",
      " [7 8] \n",
      "\n"
     ]
    }
   ],
   "source": [
    "print(\"<<Elemento tridimensional, o array.>>\")\n",
    "print(\n",
    "    \"Numero de dimensões: \",  \n",
    "    np_arranjo3d.ndim,\n",
    "    \"\\n\",\n",
    "    \"Elemento: \\n\", \n",
    "    np_arranjo3d,\n",
    "    \"\\n\"\n",
    ") \n",
    "\n",
    "\n",
    "print(\"<<Primeiro elemento bidimensional do array.>>\")\n",
    "print(\n",
    "    \"Numero de dimensões: \",  \n",
    "    np_arranjo3d[0].ndim, \n",
    "    \"\\n\",\n",
    "    \"Elemento: \\n\", \n",
    "    np_arranjo3d[0],\n",
    "    \"\\n\"\n",
    ") \n",
    "\n",
    "print(\"<<Primeiro elemento unidimensional (vetor) do primeiro elemento bidimensional do array.>>\")\n",
    "print(\n",
    "    \"Numero de dimensões: \",  \n",
    "    np_arranjo3d[0][0].ndim,\n",
    "    \"\\n\",\n",
    "    \"Elemento: \\n\", \n",
    "    np_arranjo3d[0][0],\n",
    "    \"\\n\"\n",
    ") \n",
    "\n",
    "print(\"<<Segundo elemento unidimensional (vetor), do primeiro elemento bidimensional do array.>>\")\n",
    "print(\n",
    "    \"Numero de dimensões: \",  \n",
    "    np_arranjo3d[0][1].ndim,\n",
    "    \"\\n\",\n",
    "    \"Elemento: \\n\", \n",
    "    np_arranjo3d[0][1],\n",
    "    \"\\n\"\n",
    ")\n",
    "\n",
    "print(\"<<Segundo elemento bidimensional do array.>>\")\n",
    "print(\n",
    "    \"Numero de dimensões: \",  \n",
    "    np_arranjo3d[1].ndim,\n",
    "    \"\\n\",\n",
    "    \"Elemento: \\n\", \n",
    "    np_arranjo3d[1],\n",
    "    \"\\n\"\n",
    ") \n",
    "\n",
    "print(\"<<Primeiro elemento unidimensional (vetor) do segundo elemento bidimensional do array.>>\")\n",
    "print(\n",
    "    \"Numero de dimensões: \",  \n",
    "    np_arranjo3d[1][0].ndim,\n",
    "    \"\\n\",\n",
    "    \"Elemento: \\n\", \n",
    "    np_arranjo3d[1][0],\n",
    "    \"\\n\"\n",
    ") \n",
    "\n",
    "print(\"<<Segundo elemento unidimensional (vetor), do segundo elemento bidimensional do array.>>\")\n",
    "print(\n",
    "    \"Numero de dimensões: \",  \n",
    "    np_arranjo3d[1][1].ndim,\n",
    "    \"\\n\",\n",
    "    \"Elemento: \\n\", \n",
    "    np_arranjo3d[1][1],\n",
    "    \"\\n\"\n",
    ") \n",
    "\n"
   ]
  },
  {
   "cell_type": "markdown",
   "id": "ec94191d-dacc-4f84-b1bc-b3238b7135a2",
   "metadata": {},
   "source": [
    "### 2.2 Inicialização Automática de Vetores\n",
    "\n",
    "Quando se implemeta um determinado método numérico, é muito comum que se use vetores de valores sequenciais, com passo constante, para a representação de, por exemplo, uma variável contínua como o tempo, ou coordenadas cartesianas. Estes vetores podem ser bastante longos, seja devido a extensão do vetor, seja devido ao seu número de elementos. Em virtude disso, a incialização declarativa quase sempre é uma opção pouco inteligente, senão impossível de ser usada.\n",
    "\n",
    "Suponha que você deseje obter um vetor com os valores de $f(x) = x^3 - x^2$ e $f(x) = -x^3 + x^2$ com x variando entre $-100$ e $100$. Para isso você precisará, após implementar a função, de um vetor que contenha cada um dos valores de $x$. \n",
    "\n",
    "Dois caminhos podem ser usados, determinar o número de elementos do vetor $x$, ou o passo do incremento entre os elementos de $x$. Para cada caso, existe uma função correspondente no NumPy.\n"
   ]
  },
  {
   "cell_type": "code",
   "execution_count": 9,
   "id": "a1edab75-adb6-4f3c-b6fa-197920ce5660",
   "metadata": {},
   "outputs": [
    {
     "name": "stdout",
     "output_type": "stream",
     "text": [
      "Primeiro elemento: -100.0 \n",
      "Último elemento: 100.0\n",
      "Comprimento: 1000\n"
     ]
    }
   ],
   "source": [
    "# Inicialização do vetor x determinando o número de elementos\n",
    "xis1 = np.linspace(-100,100,1000) # Inicializa um vetor entre -100 e 100 com 1000 elementos\n",
    "print(f\"Primeiro elemento: {xis1[0]} \\nÚltimo elemento: {xis1[-1]}\\nComprimento: {xis1.size}\")"
   ]
  },
  {
   "cell_type": "markdown",
   "id": "b22cebd9-0c58-4f3e-8f6e-441a51b9f16b",
   "metadata": {},
   "source": [
    "Uma segunda opção seria inicializar o vetor determinado o passo entre os elementos. "
   ]
  },
  {
   "cell_type": "code",
   "execution_count": 10,
   "id": "c457e06b-cfa3-4a45-abd9-dc31ab13fae0",
   "metadata": {},
   "outputs": [
    {
     "name": "stdout",
     "output_type": "stream",
     "text": [
      "Primeiro elemento: -100.0 \n",
      "Último elemento: 99.5\n",
      "Passo: 0.5\n"
     ]
    }
   ],
   "source": [
    "# Inicialização do vetor x determinando o passo entre os elementos\n",
    "xis2 = np.arange(-100, 100, 0.5) # Inicializa um vetor entre -100 e 100 com 1000 elementos\n",
    "print(f\"Primeiro elemento: {xis2[0]} \\nÚltimo elemento: {xis2[-1]}\\nPasso: {xis2[1]-xis2[0]}\")"
   ]
  },
  {
   "cell_type": "markdown",
   "id": "5f46a6d6-5685-4497-9423-c44ea3e1c580",
   "metadata": {},
   "source": [
    "Neste caso, ao utilizar os vetores como argumentos para as funções, então seu retorno será um objeto do tipo `ndrray`, veja como fica:"
   ]
  },
  {
   "cell_type": "code",
   "execution_count": 11,
   "id": "4e055865-a71e-4ea0-97db-19347581ce78",
   "metadata": {},
   "outputs": [
    {
     "name": "stdout",
     "output_type": "stream",
     "text": [
      " yps1 é do tipo <class 'numpy.ndarray'>\n",
      " yps2 também é do tipo <class 'numpy.ndarray'>\n"
     ]
    }
   ],
   "source": [
    "def func1(xis):\n",
    "    return np.power(xis, 3) - np.power(xis, 2)\n",
    "\n",
    "def func2(xis):\n",
    "    return - np.power(xis, 3) + np.power(xis, 2)\n",
    "\n",
    "yps1 = func1(xis1)\n",
    "yps2 = func2(xis2)\n",
    "\n",
    "print(f\" yps1 é do tipo {type(yps1)}\")\n",
    "print(f\" yps2 também é do tipo {type(yps1)}\")\n"
   ]
  },
  {
   "cell_type": "code",
   "execution_count": 12,
   "id": "7b8ab816-d4be-4b5c-a07a-0e917823d74c",
   "metadata": {},
   "outputs": [
    {
     "data": {
      "image/png": "[encoded data removed]",
      "text/plain": [
       "<Figure size 432x288 with 1 Axes>"
      ]
     },
     "metadata": {
      "needs_background": "light"
     },
     "output_type": "display_data"
    }
   ],
   "source": [
    "# Acompanhe as próxias aulas para saber mais sobre gráficos\n",
    "\n",
    "import matplotlib.pyplot as plt\n",
    "\n",
    "plt.plot(xis1, yps1)\n",
    "plt.plot(xis2, yps2)\n",
    "plt.show()"
   ]
  },
  {
   "cell_type": "markdown",
   "id": "9ea1b7a3-a5fc-46e1-918d-e153782f5dd7",
   "metadata": {},
   "source": [
    "__Se vc ficou curioso em relação ao método de criação do gráfico acompanhe as nossas próximas aulas.__"
   ]
  },
  {
   "cell_type": "markdown",
   "id": "d517a4f2-78c7-4c25-9c25-ab0b94076d8d",
   "metadata": {},
   "source": [
    "### 2.3 Rotinas NumPy para inicialização automática de matrizes"
   ]
  },
  {
   "cell_type": "code",
   "execution_count": null,
   "id": "79ebd3c7-3d84-4550-8b3b-ca1ef0236c54",
   "metadata": {},
   "outputs": [],
   "source": []
  }
 ],
 "metadata": {
  "kernelspec": {
   "display_name": "Python 3",
   "language": "python",
   "name": "python3"
  },
  "language_info": {
   "codemirror_mode": {
    "name": "ipython",
    "version": 3
   },
   "file_extension": ".py",
   "mimetype": "text/x-python",
   "name": "python",
   "nbconvert_exporter": "python",
   "pygments_lexer": "ipython3",
   "version": "3.9.5"
  }
 },
 "nbformat": 4,
 "nbformat_minor": 5
}
